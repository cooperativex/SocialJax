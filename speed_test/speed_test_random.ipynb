{
 "cells": [
  {
   "cell_type": "markdown",
   "metadata": {},
   "source": [
    "SocialJax speed test using random actions"
   ]
  },
  {
   "cell_type": "code",
   "execution_count": null,
   "metadata": {
    "vscode": {
     "languageId": "bat"
    }
   },
   "outputs": [],
   "source": [
    "!git clone https://github.com/cooperativex/SocialJax.git\n",
    "%cd SocialJax"
   ]
  },
  {
   "cell_type": "code",
   "execution_count": null,
   "metadata": {
    "vscode": {
     "languageId": "bat"
    }
   },
   "outputs": [],
   "source": [
    "!pip install -r requirements.txt\n",
    "!pip install jaxlib==0.4.23+cuda11.cudnn86 -f https://storage.googleapis.com/jax-releases/jax_cuda_releases.html"
   ]
  },
  {
   "cell_type": "code",
   "execution_count": null,
   "metadata": {},
   "outputs": [],
   "source": [
    "\"\"\" \n",
    "Based on jaxmarl Implementation of speed test\n",
    "\"\"\"\n",
    "\n",
    "import time\n",
    "\n",
    "import numpy as np\n",
    "import jax\n",
    "import jax.numpy as jnp\n",
    "\n",
    "import socialjax\n",
    "\n",
    "def unbatchify(x: jnp.ndarray, agent_list, num_envs, num_actors):\n",
    "    \"\"\"\n",
    "    reshape actions for agents\n",
    "    \"\"\"\n",
    "    x = x.reshape((num_actors, num_envs, -1))\n",
    "    return {a: x[i] for i, a in enumerate(agent_list)}\n",
    "\n",
    "def make_benchmark(config):\n",
    "    env = socialjax.make(config[\"ENV_NAME\"], **config[\"ENV_KWARGS\"])\n",
    "    config[\"NUM_ACTORS\"] = env.num_agents * config[\"NUM_ENVS\"]\n",
    "\n",
    "    def benchmark(rng):\n",
    "        def init_runner_state(rng):\n",
    "\n",
    "            # INIT ENV\n",
    "            rng, _rng = jax.random.split(rng)\n",
    "            reset_rng = jax.random.split(_rng, config[\"NUM_ENVS\"])\n",
    "            obsv, env_state = jax.vmap(env.reset)(reset_rng)\n",
    "\n",
    "            return (env_state, obsv, rng)\n",
    "\n",
    "        def env_step(runner_state, _unused):\n",
    "            env_state, _, rng = runner_state\n",
    "\n",
    "            # SELECT ACTION\n",
    "            rng, _rng = jax.random.split(rng)\n",
    "            rngs = jax.random.split(_rng, config[\"NUM_ACTORS\"]).reshape(\n",
    "                (env.num_agents, config[\"NUM_ENVS\"], -1))\n",
    "            actions = [jax.vmap(env.action_space(k).sample)(\n",
    "                rngs[i]) for i, k in enumerate(env.agents)]\n",
    "            # STEP ENV\n",
    "            rng, _rng = jax.random.split(rng)\n",
    "            rng_step = jax.random.split(_rng, config[\"NUM_ENVS\"])\n",
    "            obsv, env_state, _, _, info = jax.vmap(env.step)(\n",
    "                rng_step, env_state, actions\n",
    "            )\n",
    "            runner_state = (env_state, obsv, rng)\n",
    "            return runner_state, None\n",
    "\n",
    "        rng, init_rng = jax.random.split(rng)\n",
    "        runner_state = init_runner_state(init_rng)\n",
    "        runner_state = jax.lax.scan(env_step, runner_state, None, config[\"NUM_STEPS\"])\n",
    "        return runner_state\n",
    "\n",
    "    return benchmark\n",
    "\n",
    "\n",
    "ENV = \"coin_game\"\n",
    "\n",
    "config = {\n",
    "    \"NUM_STEPS\": 1000,\n",
    "    \"num_agents\" : 2,\n",
    "    \"NUM_ENVS\": 1000,\n",
    "    \"ACTIVATION\": \"relu\",\n",
    "    \"ENV_KWARGS\": {},\n",
    "    \"ENV_NAME\": ENV,\n",
    "    \"NUM_SEEDS\": 1,\n",
    "    \"SEED\": 0,\n",
    "}\n",
    "\n",
    "# num_envs = [1, 128, 1024, 4096]\n",
    "num_envs = [1]\n",
    "sps_list = []\n",
    "for num in num_envs:\n",
    "    config[\"NUM_ENVS\"] = num\n",
    "    benchmark_fn = jax.jit(make_benchmark(config))\n",
    "    rng = jax.random.PRNGKey(config[\"SEED\"])\n",
    "    rng, _rng = jax.random.split(rng)\n",
    "    benchmark_jit = jax.jit(benchmark_fn).lower(_rng).compile()\n",
    "    before = time.perf_counter_ns()\n",
    "    runner_state = jax.block_until_ready(benchmark_jit(_rng))\n",
    "    after = time.perf_counter_ns()\n",
    "    total_time = (after - before) / 1e9\n",
    "\n",
    "    sps = config['NUM_STEPS'] * config['NUM_ENVS'] / total_time\n",
    "    sps_list.append(sps)\n",
    "    print(f\"socialjax, Num Envs: {num}, Total Time (s): {total_time}\")\n",
    "    print(f\"socialjax, Num Envs: {num}, Total Steps: {config['NUM_STEPS'] * config['NUM_ENVS']}\")\n",
    "    print(f\"socialjax, Num Envs: {num}, SPS: {sps}\")"
   ]
  },
  {
   "cell_type": "markdown",
   "metadata": {},
   "source": []
  }
 ],
 "metadata": {
  "language_info": {
   "name": "python"
  }
 },
 "nbformat": 4,
 "nbformat_minor": 2
}
